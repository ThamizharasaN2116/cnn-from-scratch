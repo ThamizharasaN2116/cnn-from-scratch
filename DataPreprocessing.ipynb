{
 "cells": [
  {
   "cell_type": "code",
   "execution_count": null,
   "metadata": {
    "collapsed": true
   },
   "outputs": [],
   "source": [
    "import numpy as np"
   ]
  },
  {
   "cell_type": "code",
   "execution_count": null,
   "metadata": {
    "collapsed": true
   },
   "outputs": [],
   "source": [
    "import cv2"
   ]
  },
  {
   "cell_type": "code",
   "execution_count": null,
   "metadata": {
    "collapsed": true
   },
   "outputs": [],
   "source": [
    "im = cv2.imread(\"./converted/pumpkin/0.jpeg\")"
   ]
  },
  {
   "cell_type": "code",
   "execution_count": null,
   "metadata": {
    "collapsed": true
   },
   "outputs": [],
   "source": [
    "im"
   ]
  },
  {
   "cell_type": "code",
   "execution_count": null,
   "metadata": {
    "collapsed": true
   },
   "outputs": [],
   "source": [
    "from PIL import Image"
   ]
  },
  {
   "cell_type": "code",
   "execution_count": null,
   "metadata": {
    "collapsed": true
   },
   "outputs": [],
   "source": [
    "img = Image.open('./images/onion/n07722390_5.jpeg')"
   ]
  },
  {
   "cell_type": "code",
   "execution_count": null,
   "metadata": {
    "collapsed": true
   },
   "outputs": [],
   "source": [
    "img.show()"
   ]
  },
  {
   "cell_type": "code",
   "execution_count": null,
   "metadata": {
    "collapsed": true
   },
   "outputs": [],
   "source": [
    "img1 = img.resize((224, 224), Image.ANTIALIAS)"
   ]
  },
  {
   "cell_type": "code",
   "execution_count": null,
   "metadata": {
    "collapsed": true,
    "scrolled": true
   },
   "outputs": [],
   "source": [
    "#import os\n",
    "from os import listdir\n",
    "from os.path import isfile, join\n",
    "import cv2\n",
    "import numpy as np\n",
    "from PIL import Image"
   ]
  },
  {
   "cell_type": "code",
   "execution_count": null,
   "metadata": {
    "collapsed": true
   },
   "outputs": [],
   "source": [
    "mypath = './images/pumpkin'\n",
    "convert_path = './converted/pumpkin'\n",
    "if not os.path.exists(convert_path):\n",
    "    os.makedirs(convert_path)\n",
    "    print('new directory created')"
   ]
  },
  {
   "cell_type": "code",
   "execution_count": null,
   "metadata": {
    "collapsed": true
   },
   "outputs": [],
   "source": [
    "onlyfiles = [f for f in listdir(mypath) if isfile(join(mypath, f))]"
   ]
  },
  {
   "cell_type": "code",
   "execution_count": null,
   "metadata": {
    "collapsed": true
   },
   "outputs": [],
   "source": [
    "len(onlyfiles)"
   ]
  },
  {
   "cell_type": "code",
   "execution_count": null,
   "metadata": {
    "collapsed": true,
    "scrolled": true
   },
   "outputs": [],
   "source": [
    "for i,f in enumerate(onlyfiles):\n",
    "    #print(i)\n",
    "    #print(f)\n",
    "    img = Image.open(mypath+'/'+f)\n",
    "    img = img.resize((224,224), Image.ANTIALIAS)\n",
    "    newPath = convert_path+'/'+str(i)+'.jpeg'\n",
    "    print(newPath)\n",
    "    img.save(newPath)\n",
    "    im = cv2.imread(newPath)\n",
    "    if(im.shape[2] != 3):\n",
    "        print(im.shape)"
   ]
  },
  {
   "cell_type": "code",
   "execution_count": null,
   "metadata": {
    "collapsed": true
   },
   "outputs": [],
   "source": [
    "file = 'input.data'"
   ]
  },
  {
   "cell_type": "code",
   "execution_count": 1,
   "metadata": {
    "collapsed": true
   },
   "outputs": [],
   "source": [
    "#import os\n",
    "from os import listdir\n",
    "from os.path import isfile, join\n",
    "import cv2\n",
    "import numpy as np\n",
    "from PIL import Image\n",
    "import matplotlib.pyplot as plt"
   ]
  },
  {
   "cell_type": "markdown",
   "metadata": {},
   "source": [
    "### convert pumpkin"
   ]
  },
  {
   "cell_type": "code",
   "execution_count": 2,
   "metadata": {
    "collapsed": true
   },
   "outputs": [],
   "source": [
    "convert_path = './converted/pumpkin'\n",
    "onlyfiles = [f for f in listdir(convert_path) if isfile(join(convert_path,f))]"
   ]
  },
  {
   "cell_type": "code",
   "execution_count": 3,
   "metadata": {},
   "outputs": [
    {
     "data": {
      "text/plain": [
       "758"
      ]
     },
     "execution_count": 3,
     "metadata": {},
     "output_type": "execute_result"
    }
   ],
   "source": [
    "len(onlyfiles)"
   ]
  },
  {
   "cell_type": "code",
   "execution_count": 4,
   "metadata": {
    "scrolled": true
   },
   "outputs": [
    {
     "name": "stdout",
     "output_type": "stream",
     "text": [
      "758\n"
     ]
    }
   ],
   "source": [
    "data = []\n",
    "label = []\n",
    "rgb = []\n",
    "for i, f in enumerate(onlyfiles):\n",
    "    img = cv2.imread(convert_path+'/'+f)\n",
    "    b,g,r = cv2.split(img)\n",
    "    img2 = cv2.merge([r,g,b])\n",
    "    rgb.append(img2)\n",
    "    data.append(img)\n",
    "    label.append(0)\n",
    "#print(data)\n",
    "print(len(data))"
   ]
  },
  {
   "cell_type": "code",
   "execution_count": 5,
   "metadata": {
    "collapsed": true,
    "scrolled": true
   },
   "outputs": [],
   "source": [
    "splitCount = int(len(rgb) * 0.1)\n",
    "#len(rgb[:-int(len(rgb) * 0.1)])\n",
    "#len(rgb[-(int(len(rgb)*0.1)):])"
   ]
  },
  {
   "cell_type": "code",
   "execution_count": 6,
   "metadata": {},
   "outputs": [
    {
     "data": {
      "text/plain": [
       "683"
      ]
     },
     "execution_count": 6,
     "metadata": {},
     "output_type": "execute_result"
    }
   ],
   "source": [
    "len(rgb[:-splitCount])"
   ]
  },
  {
   "cell_type": "code",
   "execution_count": 7,
   "metadata": {},
   "outputs": [
    {
     "data": {
      "text/plain": [
       "75"
      ]
     },
     "execution_count": 7,
     "metadata": {},
     "output_type": "execute_result"
    }
   ],
   "source": [
    "len(rgb[-splitCount:])"
   ]
  },
  {
   "cell_type": "code",
   "execution_count": 8,
   "metadata": {},
   "outputs": [
    {
     "name": "stdout",
     "output_type": "stream",
     "text": [
      "683   683  test:  75   75\n"
     ]
    }
   ],
   "source": [
    "train_list = rgb[:-splitCount]\n",
    "test_list = rgb[-splitCount:]\n",
    "train_list_label = label[:-splitCount]\n",
    "test_list_label = label[-splitCount:]\n",
    "print(len(train_list),' ',len(train_list_label),' test: ',len(test_list),' ',len(test_list_label))\n",
    "# train = np.array(rgb[:-splitCount])\n",
    "# test = np.array(rgb[-splitCount:])\n",
    "# train_label = np.array(label[:-splitCount])\n",
    "# test_label = np.array(label[-splitCount:])\n",
    "# print(len(train),' ',len(train_label),' test: ',len(test),' ',len(test_label))"
   ]
  },
  {
   "cell_type": "markdown",
   "metadata": {},
   "source": [
    "### Converting Apple"
   ]
  },
  {
   "cell_type": "code",
   "execution_count": 9,
   "metadata": {},
   "outputs": [
    {
     "name": "stdout",
     "output_type": "stream",
     "text": [
      "763\n",
      "763\n",
      "687\n",
      "76\n",
      "687   687  test:  76   76\n"
     ]
    }
   ],
   "source": [
    "convert_path = './converted/apple'\n",
    "onlyfiles = [f for f in listdir(convert_path) if isfile(join(convert_path,f))]\n",
    "print(len(onlyfiles))\n",
    "data = []\n",
    "label = []\n",
    "rgb = []\n",
    "for i, f in enumerate(onlyfiles):\n",
    "    img = cv2.imread(convert_path+'/'+f)\n",
    "    b,g,r = cv2.split(img)\n",
    "    img2 = cv2.merge([r,g,b])\n",
    "    rgb.append(img2)\n",
    "    data.append(img)\n",
    "    label.append(1)\n",
    "#print(data)\n",
    "print(len(data))\n",
    "\n",
    "splitCount = int(len(rgb) * 0.1)\n",
    "print(len(rgb[:-splitCount]))\n",
    "print(len(rgb[-splitCount:]))\n",
    "apptrain_list = (rgb[:-splitCount])\n",
    "apptest_list = (rgb[-splitCount:])\n",
    "apptrain_label_list = (label[:-splitCount])\n",
    "apptest_label_list = (label[-splitCount:])\n",
    "print(len(apptrain_list),' ',len(apptrain_label_list),' test: ',len(apptest_list),' ',len(apptest_label_list))"
   ]
  },
  {
   "cell_type": "code",
   "execution_count": 10,
   "metadata": {},
   "outputs": [
    {
     "name": "stdout",
     "output_type": "stream",
     "text": [
      "Total train data:  1370 total test  151\n",
      "Total train label:  1370 total test label 151\n"
     ]
    }
   ],
   "source": [
    "train_list += apptrain_list\n",
    "test_list += apptest_list\n",
    "train_list_label += apptrain_label_list\n",
    "test_list_label += apptest_label_list\n",
    "print('Total train data: ',len(train_list), 'total test ',(len(test_list)))\n",
    "print('Total train label: ',len(train_list_label), 'total test label',(len(test_list_label)))\n"
   ]
  },
  {
   "cell_type": "markdown",
   "metadata": {},
   "source": [
    "### Converting Onion"
   ]
  },
  {
   "cell_type": "code",
   "execution_count": 11,
   "metadata": {},
   "outputs": [
    {
     "name": "stdout",
     "output_type": "stream",
     "text": [
      "535\n",
      "535\n",
      "482\n",
      "53\n",
      "482   482  test:  53   53\n"
     ]
    }
   ],
   "source": [
    "convert_path = './converted/onion'\n",
    "onlyfiles = [f for f in listdir(convert_path) if isfile(join(convert_path,f))]\n",
    "print(len(onlyfiles))\n",
    "data = []\n",
    "label = []\n",
    "rgb = []\n",
    "for i, f in enumerate(onlyfiles):\n",
    "    img = cv2.imread(convert_path+'/'+f)\n",
    "    b,g,r = cv2.split(img)\n",
    "    img2 = cv2.merge([r,g,b])\n",
    "    rgb.append(img2)\n",
    "    data.append(img)\n",
    "    label.append(2)\n",
    "#print(data)\n",
    "print(len(data))\n",
    "\n",
    "splitCount = int(len(rgb) * 0.1)\n",
    "print(len(rgb[:-splitCount]))\n",
    "print(len(rgb[-splitCount:]))\n",
    "pumtrain_list = (rgb[:-splitCount])\n",
    "pumtest_list = (rgb[-splitCount:])\n",
    "pumtrain_label_list = (label[:-splitCount])\n",
    "pumtest_label_list = (label[-splitCount:])\n",
    "print(len(pumtrain_list),' ',len(pumtrain_label_list),' test: ',len(pumtest_list),' ',len(pumtest_label_list))"
   ]
  },
  {
   "cell_type": "code",
   "execution_count": 12,
   "metadata": {},
   "outputs": [
    {
     "name": "stdout",
     "output_type": "stream",
     "text": [
      "Total train data:  1852 total test  204\n",
      "Total train label:  1852 total test label 204\n"
     ]
    }
   ],
   "source": [
    "train_list += pumtrain_list\n",
    "test_list += pumtest_list\n",
    "train_list_label += pumtrain_label_list\n",
    "test_list_label += pumtest_label_list\n",
    "print('Total train data: ',len(train_list), 'total test ',(len(test_list)))\n",
    "print('Total train label: ',len(train_list_label), 'total test label',(len(test_list_label)))"
   ]
  },
  {
   "cell_type": "markdown",
   "metadata": {},
   "source": [
    "## Shuffling the data"
   ]
  },
  {
   "cell_type": "code",
   "execution_count": 16,
   "metadata": {
    "collapsed": true
   },
   "outputs": [],
   "source": [
    "shuffle_train = []\n",
    "for i,r in enumerate(train_list):\n",
    "    d = []\n",
    "    d.append(r)\n",
    "    d.append(train_list_label[i])\n",
    "    shuffle_train.append(d)"
   ]
  },
  {
   "cell_type": "code",
   "execution_count": 17,
   "metadata": {
    "scrolled": true
   },
   "outputs": [
    {
     "name": "stdout",
     "output_type": "stream",
     "text": [
      "0\n",
      "0\n",
      "0\n",
      "0\n",
      "1\n",
      "2\n",
      "0\n",
      "loop\n",
      "0\n",
      "0\n",
      "0\n",
      "0\n",
      "0\n",
      "0\n",
      "0\n",
      "0\n",
      "0\n",
      "0\n",
      "0\n",
      "0\n",
      "0\n",
      "0\n",
      "0\n",
      "0\n",
      "0\n",
      "0\n",
      "0\n",
      "0\n",
      "0\n",
      "0\n",
      "0\n",
      "0\n",
      "0\n",
      "0\n",
      "0\n",
      "0\n",
      "0\n",
      "0\n",
      "0\n",
      "0\n",
      "0\n",
      "0\n",
      "0\n",
      "0\n",
      "0\n",
      "0\n",
      "0\n",
      "0\n",
      "0\n",
      "0\n",
      "0\n",
      "0\n",
      "0\n",
      "0\n",
      "0\n",
      "0\n",
      "0\n",
      "0\n"
     ]
    }
   ],
   "source": [
    "# s = []\n",
    "# d = [];\n",
    "# d.append([1,2,3,4])\n",
    "# d.append(0)\n",
    "# s.append(d)\n",
    "print('loop')\n",
    "for i in range(50, 100):\n",
    "    print(shuffle_train[i][1])"
   ]
  },
  {
   "cell_type": "code",
   "execution_count": 18,
   "metadata": {},
   "outputs": [
    {
     "data": {
      "text/plain": [
       "1852"
      ]
     },
     "execution_count": 18,
     "metadata": {},
     "output_type": "execute_result"
    }
   ],
   "source": [
    "len(shuffle_train)\n",
    "\n"
   ]
  },
  {
   "cell_type": "code",
   "execution_count": 19,
   "metadata": {
    "collapsed": true
   },
   "outputs": [],
   "source": [
    "from random import shuffle\n",
    "shuffle(shuffle_train)"
   ]
  },
  {
   "cell_type": "code",
   "execution_count": 20,
   "metadata": {
    "scrolled": true
   },
   "outputs": [
    {
     "name": "stdout",
     "output_type": "stream",
     "text": [
      "2\n",
      "1\n",
      "1\n",
      "1\n",
      "1\n",
      "0\n",
      "0\n",
      "loop\n",
      "1\n",
      "2\n",
      "0\n",
      "1\n",
      "1\n",
      "1\n",
      "2\n",
      "0\n",
      "1\n",
      "2\n",
      "2\n",
      "0\n",
      "2\n",
      "0\n",
      "1\n",
      "1\n",
      "1\n",
      "2\n",
      "0\n",
      "2\n",
      "1\n",
      "1\n",
      "1\n",
      "1\n",
      "2\n",
      "0\n",
      "0\n",
      "2\n",
      "1\n",
      "1\n",
      "0\n",
      "1\n",
      "1\n",
      "0\n",
      "2\n",
      "2\n",
      "1\n",
      "0\n",
      "0\n",
      "0\n",
      "0\n",
      "0\n",
      "0\n",
      "2\n",
      "0\n",
      "1\n",
      "0\n",
      "2\n",
      "2\n",
      "0\n"
     ]
    }
   ],
   "source": [
    "print(shuffle_train[0][1])\n",
    "print(shuffle_train[10][1])\n",
    "print(shuffle_train[110][1])\n",
    "print(shuffle_train[50][1])\n",
    "print(shuffle_train[1000][1])\n",
    "print(shuffle_train[1500][1])\n",
    "print(shuffle_train[503][1])\n",
    "print('loop')\n",
    "for i in range(50, 100):\n",
    "    print(shuffle_train[i][1])"
   ]
  },
  {
   "cell_type": "code",
   "execution_count": 21,
   "metadata": {},
   "outputs": [
    {
     "data": {
      "text/plain": [
       "1852"
      ]
     },
     "execution_count": 21,
     "metadata": {},
     "output_type": "execute_result"
    }
   ],
   "source": [
    "train_list = []\n",
    "train_list_label = []\n",
    "for i, d in enumerate(shuffle_train):\n",
    "    train_list.append(d[0])\n",
    "    train_list_label.append(d[1])\n",
    "len(train_list)"
   ]
  },
  {
   "cell_type": "code",
   "execution_count": null,
   "metadata": {
    "collapsed": true
   },
   "outputs": [],
   "source": []
  },
  {
   "cell_type": "code",
   "execution_count": 31,
   "metadata": {},
   "outputs": [
    {
     "data": {
      "text/plain": [
       "(1852, 224, 224, 3)"
      ]
     },
     "execution_count": 31,
     "metadata": {},
     "output_type": "execute_result"
    }
   ],
   "source": [
    "train_data = np.array(train_list)\n",
    "train_label = np.array(train_list_label)\n",
    "test_data = np.array(test_list)\n",
    "test_label = np.array(test_list_label)\n",
    "train_data.shape"
   ]
  },
  {
   "cell_type": "code",
   "execution_count": 32,
   "metadata": {
    "collapsed": true
   },
   "outputs": [],
   "source": [
    "data = {'train': train_data, 'train_labels': train_label, 'test':test_data, 'test_labels': test_label}"
   ]
  },
  {
   "cell_type": "code",
   "execution_count": 33,
   "metadata": {},
   "outputs": [
    {
     "name": "stdout",
     "output_type": "stream",
     "text": [
      "display image:  (224, 224, 3)\n"
     ]
    },
    {
     "data": {
      "image/png": "[encoded data removed]",
      "text/plain": [
       "<matplotlib.figure.Figure at 0x22ead7a8cf8>"
      ]
     },
     "metadata": {},
     "output_type": "display_data"
    }
   ],
   "source": [
    "print('display image: ',train_data[1].shape)\n",
    "plt.axis('off')\n",
    "plt.imshow(train_data[100])\n",
    "plt.show()"
   ]
  },
  {
   "cell_type": "code",
   "execution_count": 34,
   "metadata": {},
   "outputs": [
    {
     "name": "stdout",
     "output_type": "stream",
     "text": [
      "False\n"
     ]
    }
   ],
   "source": [
    "import pickle\n",
    "\n",
    "a = {'hello': 'world'}\n",
    "\n",
    "with open('data.pkl', 'wb') as handle:\n",
    "    pickle.dump(data, handle, protocol=pickle.HIGHEST_PROTOCOL)\n",
    "\n",
    "with open('data.pkl', 'rb') as handle:\n",
    "    b = pickle.load(handle)\n",
    "\n",
    "print(a == b)"
   ]
  },
  {
   "cell_type": "code",
   "execution_count": 35,
   "metadata": {},
   "outputs": [
    {
     "name": "stdout",
     "output_type": "stream",
     "text": [
      "204\n",
      "204\n",
      "1852\n",
      "1852\n"
     ]
    }
   ],
   "source": [
    "print(len(b['test']))\n",
    "print(len(b['test_labels']))\n",
    "print(len(b['train']))\n",
    "print(len(b['train_labels']))"
   ]
  },
  {
   "cell_type": "code",
   "execution_count": 1,
   "metadata": {
    "collapsed": true
   },
   "outputs": [],
   "source": [
    "# import the OpenCV package\n",
    "import cv2\n",
    " \n",
    "# load the image with imread()\n",
    "imageSource = './converted/apple/5.jpeg'\n",
    "img = cv2.imread(imageSource)\n",
    " \n",
    "# copy image to display all 4 variations\n",
    "horizontal_img = img.copy()\n",
    "vertical_img = img.copy()\n",
    "both_img = img.copy()\n",
    " \n",
    "# flip img horizontally, vertically,\n",
    "# and both axes with flip()\n",
    "horizontal_img = cv2.flip( img, 0 )\n",
    "vertical_img = cv2.flip( img, 1 )\n",
    "both_img = cv2.flip( img, -1 )\n",
    " \n",
    "# display the images on screen with imshow()\n",
    "cv2.imshow( \"Original\", img )\n",
    "cv2.imshow( \"Horizontal flip\", horizontal_img )\n",
    "cv2.imshow( \"Vertical flip\", vertical_img )\n",
    "cv2.imshow( \"Both flip\", both_img )\n",
    "\n",
    "cv2.imwrite('./converted/test_img.jpeg',both_img) \n",
    "# wait time in milliseconds\n",
    "# this is required to show the image\n",
    "# 0 = wait indefinitely\n",
    "cv2.waitKey(0)\n",
    " \n",
    "# close the windows\n",
    "cv2.destroyAllWindows()\n",
    "\n"
   ]
  },
  {
   "cell_type": "code",
   "execution_count": null,
   "metadata": {
    "collapsed": true
   },
   "outputs": [],
   "source": []
  }
 ],
 "metadata": {
  "kernelspec": {
   "display_name": "Python 3",
   "language": "python",
   "name": "python3"
  },
  "language_info": {
   "codemirror_mode": {
    "name": "ipython",
    "version": 3
   },
   "file_extension": ".py",
   "mimetype": "text/x-python",
   "name": "python",
   "nbconvert_exporter": "python",
   "pygments_lexer": "ipython3",
   "version": "3.5.3"
  }
 },
 "nbformat": 4,
 "nbformat_minor": 2
}
