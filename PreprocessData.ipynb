{
 "cells": [
  {
   "cell_type": "markdown",
   "metadata": {},
   "source": [
    "## Preprocess data"
   ]
  },
  {
   "cell_type": "code",
   "execution_count": null,
   "metadata": {
    "collapsed": true
   },
   "outputs": [],
   "source": [
    "import os\n",
    "from os import listdir\n",
    "from os.path import isfile, join\n",
    "import cv2\n",
    "import numpy as np\n",
    "from PIL import Image\n",
    "import matplotlib.pyplot as plt\n",
    "import sys"
   ]
  },
  {
   "cell_type": "markdown",
   "metadata": {},
   "source": [
    "### Resize images to 69x69x3 and add data augmentation techniques"
   ]
  },
  {
   "cell_type": "code",
   "execution_count": null,
   "metadata": {
    "collapsed": true
   },
   "outputs": [],
   "source": [
    "def resize_images(img_path, conv_path):\n",
    "    \"\"\"\n",
    "    Resize images with 69*69*3\n",
    "    \"\"\"\n",
    "\n",
    "    if not os.path.exists(conv_path):\n",
    "        os.makedirs(conv_path)\n",
    "        print(\"\\nNew Directory created\")\n",
    "    onlyfiles = [f for f in listdir(img_path) if isfile(join(img_path, f))]\n",
    "    print(\"Total files in input dir: {}\".format(len(onlyfiles)))\n",
    "    for i,f in enumerate(onlyfiles):\n",
    "        #print(i)\n",
    "        #print(f)\n",
    "        #print(img_path+'/'+f)\n",
    "        img = Image.open(img_path+'/'+f)\n",
    "        img = img.resize((69,69), Image.ANTIALIAS)\n",
    "        newPath = conv_path+'/'+str(i)+'.jpeg'\n",
    "        sys.stdout.write(\"\\r {}\".format(newPath))\n",
    "        sys.stdout.flush()\n",
    "        img.save(newPath)\n",
    "        im = cv2.imread(newPath)\n",
    "        # copy image to display all 4 variations\n",
    "        horizontal_img = im.copy()\n",
    "        vertical_img = im.copy()\n",
    "        both_img = im.copy()\n",
    "\n",
    "        # flip img horizontally, vertically,\n",
    "        # and both axes with flip()\n",
    "        horizontal_img = cv2.flip( im, 0 )\n",
    "        vertical_img = cv2.flip( im, 1 )\n",
    "        both_img = cv2.flip( im, -1 )\n",
    "        \n",
    "        cv2.imwrite(conv_path+'/'+str(i)+'_1.jpeg',horizontal_img) \n",
    "        cv2.imwrite(conv_path+'/'+str(i)+'_2.jpeg',vertical_img) \n",
    "        cv2.imwrite(conv_path+'/'+str(i)+'_3.jpeg',both_img) \n",
    "        if(im.shape[2] != 3):\n",
    "            print(im.shape)\n"
   ]
  },
  {
   "cell_type": "markdown",
   "metadata": {},
   "source": [
    "### Convert images into list"
   ]
  },
  {
   "cell_type": "code",
   "execution_count": null,
   "metadata": {
    "collapsed": true
   },
   "outputs": [],
   "source": [
    "def convert_images(img_path, label):\n",
    "    \"\"\"\n",
    "    Convert images into list\n",
    "    \"\"\"\n",
    "    onlyfiles = [f for f in listdir(img_path) if isfile(join(img_path,f))]\n",
    "\n",
    "    data = []\n",
    "    label = []\n",
    "    rgb = []\n",
    "    for i, f in enumerate(onlyfiles):\n",
    "        img = cv2.imread(img_path+'/'+f)\n",
    "        b,g,r = cv2.split(img)\n",
    "        img2 = cv2.merge([r,g,b])\n",
    "        rgb.append(img2)\n",
    "        data.append(img)\n",
    "        label.append(label)\n",
    "    \n",
    "    return rgb, label"
   ]
  },
  {
   "cell_type": "markdown",
   "metadata": {},
   "source": [
    "### Find the 10% data "
   ]
  },
  {
   "cell_type": "code",
   "execution_count": null,
   "metadata": {
    "collapsed": true
   },
   "outputs": [],
   "source": [
    "\n",
    "def find_ten_percent(data):\n",
    "    \"\"\"\n",
    "    calculate 10% of data\n",
    "    \"\"\"\n",
    "\n",
    "    return int(len(data) * 0.1)"
   ]
  },
  {
   "cell_type": "markdown",
   "metadata": {},
   "source": [
    "### Resize all images in images directory and store it in converted"
   ]
  },
  {
   "cell_type": "code",
   "execution_count": null,
   "metadata": {
    "scrolled": true
   },
   "outputs": [],
   "source": [
    "folders = [name for name in os.listdir('./test_images')\n",
    "            if os.path.isdir(os.path.join('./test_images', name))]\n",
    "for d in folders:\n",
    "    img_dir = './test_images/'+d\n",
    "    conv_dir = './converted_test/'+d\n",
    "    resize_images(img_dir, conv_dir)"
   ]
  },
  {
   "cell_type": "markdown",
   "metadata": {},
   "source": [
    "### Convert images in converted directory to list"
   ]
  },
  {
   "cell_type": "code",
   "execution_count": null,
   "metadata": {
    "scrolled": true
   },
   "outputs": [],
   "source": [
    "folders = [name for name in os.listdir('./converted_test')\n",
    "            if os.path.isdir(os.path.join('./converted_test', name))]\n",
    "train_list = []\n",
    "test_list = []\n",
    "train_list_label = []\n",
    "test_list_label = []\n",
    "for di, d in enumerate(folders):\n",
    "    img_path = './converted_test/'+d\n",
    "    onlyfiles = [f for f in listdir(img_path) if isfile(join(img_path,f))]\n",
    "    print(len(onlyfiles))\n",
    "    data = []\n",
    "    label = []\n",
    "    rgb = []\n",
    "    for i, f in enumerate(onlyfiles):\n",
    "        img = cv2.imread(img_path+'/'+f)\n",
    "        b,g,r = cv2.split(img)\n",
    "        img2 = cv2.merge([r,g,b])\n",
    "        rgb.append(img2)\n",
    "        data.append(img)\n",
    "        label.append(di)\n",
    "    #print(data)\n",
    "    print(len(data))\n",
    "    splitCount = int(len(rgb) * 0.1)\n",
    "    print(len(rgb[:-splitCount]))\n",
    "    print(len(rgb[-splitCount:]))\n",
    "    pumtrain_list = (rgb[:-splitCount])\n",
    "    pumtest_list = (rgb[-splitCount:])\n",
    "    pumtrain_label_list = (label[:-splitCount])\n",
    "    pumtest_label_list = (label[-splitCount:])\n",
    "    print(len(pumtrain_list),' ',len(pumtrain_label_list),' test: ',len(pumtest_list),' ',len(pumtest_label_list))\n",
    "    train_list += pumtrain_list\n",
    "    test_list += pumtest_list\n",
    "    train_list_label += pumtrain_label_list\n",
    "    test_list_label += pumtest_label_list\n",
    "    print('Total train data: ',len(train_list), 'total test ',(len(test_list)))\n",
    "    print('Total train label: ',len(train_list_label), 'total test label',(len(test_list_label)))"
   ]
  },
  {
   "cell_type": "code",
   "execution_count": null,
   "metadata": {},
   "outputs": [],
   "source": [
    "train_list += test_list\n",
    "train_list_label += test_list_label"
   ]
  },
  {
   "cell_type": "markdown",
   "metadata": {},
   "source": [
    "### Shuffling the data"
   ]
  },
  {
   "cell_type": "code",
   "execution_count": null,
   "metadata": {
    "scrolled": true
   },
   "outputs": [],
   "source": [
    "shuffle_train = []\n",
    "for i,r in enumerate(train_list):\n",
    "    d = []\n",
    "    d.append(r)\n",
    "    d.append(train_list_label[i])\n",
    "    shuffle_train.append(d)\n",
    "print('loop')\n",
    "for i in range(0, 50):\n",
    "    print(shuffle_train[i][1])"
   ]
  },
  {
   "cell_type": "code",
   "execution_count": null,
   "metadata": {},
   "outputs": [],
   "source": [
    "set(test_list_label)"
   ]
  },
  {
   "cell_type": "code",
   "execution_count": null,
   "metadata": {
    "scrolled": true
   },
   "outputs": [],
   "source": [
    "from random import shuffle\n",
    "shuffle(shuffle_train)\n",
    "print('loop')\n",
    "for i in range(50, 100):\n",
    "    print(shuffle_train[i][1])"
   ]
  },
  {
   "cell_type": "code",
   "execution_count": null,
   "metadata": {},
   "outputs": [],
   "source": [
    "train_list = []\n",
    "train_list_label = []\n",
    "for i, d in enumerate(shuffle_train):\n",
    "    train_list.append(d[0])\n",
    "    train_list_label.append(d[1])\n",
    "len(train_list)"
   ]
  },
  {
   "cell_type": "code",
   "execution_count": null,
   "metadata": {},
   "outputs": [],
   "source": [
    "train_data = np.array(train_list)\n",
    "train_label = np.array(train_list_label)\n",
    "test_data = np.array(test_list)\n",
    "test_label = np.array(test_list_label)\n",
    "train_data.shape"
   ]
  },
  {
   "cell_type": "code",
   "execution_count": null,
   "metadata": {
    "collapsed": true
   },
   "outputs": [],
   "source": [
    "data = {'train': train_data, 'train_labels': train_label, 'test':test_data, 'test_labels': test_label}"
   ]
  },
  {
   "cell_type": "markdown",
   "metadata": {},
   "source": [
    "### Test images and labels"
   ]
  },
  {
   "cell_type": "code",
   "execution_count": null,
   "metadata": {},
   "outputs": [],
   "source": [
    "print('display image: ',train_label[100])\n",
    "plt.axis('off')\n",
    "plt.imshow(train_data[100])\n",
    "plt.show()"
   ]
  },
  {
   "cell_type": "markdown",
   "metadata": {},
   "source": [
    "### Write data into pickle file"
   ]
  },
  {
   "cell_type": "code",
   "execution_count": null,
   "metadata": {
    "collapsed": true
   },
   "outputs": [],
   "source": [
    "import pickle\n",
    "\n",
    "\n",
    "with open('new_data.pkl', 'wb') as handle:\n",
    "    pickle.dump(data, handle, protocol=pickle.HIGHEST_PROTOCOL)\n",
    "\n",
    "with open('new_data.pkl', 'rb') as handle:\n",
    "    b = pickle.load(handle)\n"
   ]
  },
  {
   "cell_type": "code",
   "execution_count": null,
   "metadata": {},
   "outputs": [],
   "source": [
    "print(len(b['test']))\n",
    "print(len(b['test_labels']))\n",
    "print(len(b['train']))\n",
    "print(len(b['train_labels']))"
   ]
  }
 ],
 "metadata": {
  "kernelspec": {
   "display_name": "Python 3",
   "language": "python",
   "name": "python3"
  },
  "language_info": {
   "codemirror_mode": {
    "name": "ipython",
    "version": 3
   },
   "file_extension": ".py",
   "mimetype": "text/x-python",
   "name": "python",
   "nbconvert_exporter": "python",
   "pygments_lexer": "ipython3",
   "version": "3.5.3"
  }
 },
 "nbformat": 4,
 "nbformat_minor": 2
}
